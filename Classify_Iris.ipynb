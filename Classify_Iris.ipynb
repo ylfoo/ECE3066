{
  "cells": [
    {
      "cell_type": "markdown",
      "metadata": {
        "id": "view-in-github",
        "colab_type": "text"
      },
      "source": [
        "<a href=\"https://colab.research.google.com/github/ylfoo/ECE3066/blob/main/Classify_Iris.ipynb\" target=\"_parent\"><img src=\"https://colab.research.google.com/assets/colab-badge.svg\" alt=\"Open In Colab\"/></a>"
      ]
    },
    {
      "cell_type": "markdown",
      "id": "5b262f52",
      "metadata": {
        "id": "5b262f52"
      },
      "source": [
        "## Unfinished debugging!  \n",
        "## AIS1:\tFamiliarization with the development toolset for machine learning systems"
      ]
    },
    {
      "cell_type": "markdown",
      "id": "fdf35427",
      "metadata": {
        "id": "fdf35427"
      },
      "source": [
        "### Objectives"
      ]
    },
    {
      "cell_type": "markdown",
      "id": "51244bf3",
      "metadata": {
        "id": "51244bf3"
      },
      "source": [
        "To analyse the general workflow of a machine learning system.\n",
        "To develop a machine learning system for classification using Python with Scikit-Learn package."
      ]
    },
    {
      "cell_type": "markdown",
      "id": "aade8e9c",
      "metadata": {
        "id": "aade8e9c"
      },
      "source": [
        "### Steps of Developing a Classification System"
      ]
    },
    {
      "cell_type": "markdown",
      "id": "1c1d2e74",
      "metadata": {
        "id": "1c1d2e74"
      },
      "source": [
        "1. Open Jupyter Notebook and create a new notebook (named it as AIS1).\n",
        "2. Enter the following codes in the new notebook."
      ]
    },
    {
      "cell_type": "markdown",
      "id": "cOrRJLm0lN1J",
      "metadata": {
        "id": "cOrRJLm0lN1J"
      },
      "source": [
        "#Classification: Iris flowers prediction"
      ]
    },
    {
      "cell_type": "markdown",
      "id": "9JGKfaBXlYfO",
      "metadata": {
        "id": "9JGKfaBXlYfO"
      },
      "source": [
        "First, load the libraries."
      ]
    },
    {
      "cell_type": "code",
      "execution_count": 1,
      "id": "q4DkKwbMkL0H",
      "metadata": {
        "id": "q4DkKwbMkL0H"
      },
      "outputs": [],
      "source": [
        "from pandas import read_csv\n",
        "from matplotlib import pyplot\n",
        "from sklearn.model_selection import train_test_split, GridSearchCV\n",
        "from sklearn.metrics import classification_report\n",
        "from sklearn.metrics import confusion_matrix\n",
        "from sklearn.metrics import ConfusionMatrixDisplay\n",
        "from sklearn.metrics import accuracy_score\n",
        "from sklearn.neighbors import KNeighborsClassifier as KNC\n",
        "from sklearn.svm import SVC\n",
        "from sklearn import tree\n",
        "from sklearn.tree import DecisionTreeClassifier as DTC, plot_tree"
      ]
    },
    {
      "cell_type": "markdown",
      "id": "ptLIHVeWljBm",
      "metadata": {
        "id": "ptLIHVeWljBm"
      },
      "source": [
        "Then load the dataset"
      ]
    },
    {
      "cell_type": "code",
      "execution_count": 2,
      "id": "ezGDCstgkT4B",
      "metadata": {
        "id": "ezGDCstgkT4B",
        "outputId": "3ddcdcd0-8f25-42e5-9b63-de3a7bfae550",
        "colab": {
          "base_uri": "https://localhost:8080/",
          "height": 53
        }
      },
      "outputs": [
        {
          "output_type": "execute_result",
          "data": {
            "text/plain": [
              "\"filename = 'iris.data.csv'\\n#names = ['sepal-length', 'sepal-width', 'petal-length', 'petal-width', 'species']\\nclass_label = ['setosa', 'versicolor', 'virginica']\\ndataset = read_csv(filename, header=0)\""
            ],
            "application/vnd.google.colaboratory.intrinsic+json": {
              "type": "string"
            }
          },
          "metadata": {},
          "execution_count": 2
        }
      ],
      "source": [
        "from sklearn.datasets import load_iris\n",
        "dataset = load_iris()\n",
        "\n",
        "# filename = 'iris.data.csv'\n",
        "# #names = ['sepal-length', 'sepal-width', 'petal-length', 'petal-width', 'species']\n",
        "# class_label = ['setosa', 'versicolor', 'virginica']\n",
        "# dataset = read_csv(filename, header=0)"
      ]
    },
    {
      "cell_type": "markdown",
      "id": "PGFrs19OlqK2",
      "metadata": {
        "id": "PGFrs19OlqK2"
      },
      "source": [
        "Summarize the data"
      ]
    },
    {
      "cell_type": "code",
      "execution_count": 9,
      "id": "qG-C-hLRv7CX",
      "metadata": {
        "colab": {
          "base_uri": "https://localhost:8080/"
        },
        "id": "qG-C-hLRv7CX",
        "outputId": "43503389-f4a9-429c-ee77-0b4e5a66833c"
      },
      "outputs": [
        {
          "output_type": "execute_result",
          "data": {
            "text/plain": [
              "(150, 4)"
            ]
          },
          "metadata": {},
          "execution_count": 9
        }
      ],
      "source": [
        "# Descriptive statistics\n",
        "dataset.data.shape"
      ]
    },
    {
      "cell_type": "code",
      "source": [
        "dataset.target_names"
      ],
      "metadata": {
        "id": "6NnpAKBnaQ8L",
        "outputId": "aee722aa-b921-4e69-f632-ddedc176a208",
        "colab": {
          "base_uri": "https://localhost:8080/"
        }
      },
      "id": "6NnpAKBnaQ8L",
      "execution_count": 15,
      "outputs": [
        {
          "output_type": "execute_result",
          "data": {
            "text/plain": [
              "array(['setosa', 'versicolor', 'virginica'], dtype='<U10')"
            ]
          },
          "metadata": {},
          "execution_count": 15
        }
      ]
    },
    {
      "cell_type": "code",
      "execution_count": 8,
      "id": "qufU0dz3wZaM",
      "metadata": {
        "colab": {
          "base_uri": "https://localhost:8080/",
          "height": 408
        },
        "id": "qufU0dz3wZaM",
        "outputId": "082857bd-7dc4-4750-d3f5-93aa892c4079"
      },
      "outputs": [
        {
          "output_type": "error",
          "ename": "AttributeError",
          "evalue": "head",
          "traceback": [
            "\u001b[0;31m---------------------------------------------------------------------------\u001b[0m",
            "\u001b[0;31mKeyError\u001b[0m                                  Traceback (most recent call last)",
            "\u001b[0;32m/usr/local/lib/python3.10/dist-packages/sklearn/utils/_bunch.py\u001b[0m in \u001b[0;36m__getattr__\u001b[0;34m(self, key)\u001b[0m\n\u001b[1;32m     34\u001b[0m         \u001b[0;32mtry\u001b[0m\u001b[0;34m:\u001b[0m\u001b[0;34m\u001b[0m\u001b[0;34m\u001b[0m\u001b[0m\n\u001b[0;32m---> 35\u001b[0;31m             \u001b[0;32mreturn\u001b[0m \u001b[0mself\u001b[0m\u001b[0;34m[\u001b[0m\u001b[0mkey\u001b[0m\u001b[0;34m]\u001b[0m\u001b[0;34m\u001b[0m\u001b[0;34m\u001b[0m\u001b[0m\n\u001b[0m\u001b[1;32m     36\u001b[0m         \u001b[0;32mexcept\u001b[0m \u001b[0mKeyError\u001b[0m\u001b[0;34m:\u001b[0m\u001b[0;34m\u001b[0m\u001b[0;34m\u001b[0m\u001b[0m\n",
            "\u001b[0;31mKeyError\u001b[0m: 'head'",
            "\nDuring handling of the above exception, another exception occurred:\n",
            "\u001b[0;31mAttributeError\u001b[0m                            Traceback (most recent call last)",
            "\u001b[0;32m<ipython-input-8-0e27faf88cc5>\u001b[0m in \u001b[0;36m<cell line: 2>\u001b[0;34m()\u001b[0m\n\u001b[1;32m      1\u001b[0m \u001b[0;31m# Preview the first 10 lines of the data\u001b[0m\u001b[0;34m\u001b[0m\u001b[0;34m\u001b[0m\u001b[0m\n\u001b[0;32m----> 2\u001b[0;31m \u001b[0mprint\u001b[0m\u001b[0;34m(\u001b[0m\u001b[0mdataset\u001b[0m\u001b[0;34m.\u001b[0m\u001b[0mhead\u001b[0m\u001b[0;34m(\u001b[0m\u001b[0;34m)\u001b[0m\u001b[0;34m)\u001b[0m\u001b[0;34m\u001b[0m\u001b[0;34m\u001b[0m\u001b[0m\n\u001b[0m",
            "\u001b[0;32m/usr/local/lib/python3.10/dist-packages/sklearn/utils/_bunch.py\u001b[0m in \u001b[0;36m__getattr__\u001b[0;34m(self, key)\u001b[0m\n\u001b[1;32m     35\u001b[0m             \u001b[0;32mreturn\u001b[0m \u001b[0mself\u001b[0m\u001b[0;34m[\u001b[0m\u001b[0mkey\u001b[0m\u001b[0;34m]\u001b[0m\u001b[0;34m\u001b[0m\u001b[0;34m\u001b[0m\u001b[0m\n\u001b[1;32m     36\u001b[0m         \u001b[0;32mexcept\u001b[0m \u001b[0mKeyError\u001b[0m\u001b[0;34m:\u001b[0m\u001b[0;34m\u001b[0m\u001b[0;34m\u001b[0m\u001b[0m\n\u001b[0;32m---> 37\u001b[0;31m             \u001b[0;32mraise\u001b[0m \u001b[0mAttributeError\u001b[0m\u001b[0;34m(\u001b[0m\u001b[0mkey\u001b[0m\u001b[0;34m)\u001b[0m\u001b[0;34m\u001b[0m\u001b[0;34m\u001b[0m\u001b[0m\n\u001b[0m\u001b[1;32m     38\u001b[0m \u001b[0;34m\u001b[0m\u001b[0m\n\u001b[1;32m     39\u001b[0m     \u001b[0;32mdef\u001b[0m \u001b[0m__setstate__\u001b[0m\u001b[0;34m(\u001b[0m\u001b[0mself\u001b[0m\u001b[0;34m,\u001b[0m \u001b[0mstate\u001b[0m\u001b[0;34m)\u001b[0m\u001b[0;34m:\u001b[0m\u001b[0;34m\u001b[0m\u001b[0;34m\u001b[0m\u001b[0m\n",
            "\u001b[0;31mAttributeError\u001b[0m: head"
          ]
        }
      ],
      "source": [
        "# Preview the first 10 lines of the data\n",
        "print(dataset.head())"
      ]
    },
    {
      "cell_type": "code",
      "execution_count": null,
      "id": "xm1LqgQmwFmz",
      "metadata": {
        "id": "xm1LqgQmwFmz"
      },
      "outputs": [],
      "source": [
        "# Data description\n",
        "print(dataset.describe())"
      ]
    },
    {
      "cell_type": "code",
      "execution_count": null,
      "id": "ec-v6fKMwdSq",
      "metadata": {
        "id": "ec-v6fKMwdSq"
      },
      "outputs": [],
      "source": [
        "# View the class distribution\n",
        "print(dataset.groupby('species').size())"
      ]
    },
    {
      "cell_type": "markdown",
      "id": "fzclCAR5l6rO",
      "metadata": {
        "id": "fzclCAR5l6rO"
      },
      "source": [
        "Data visualizations"
      ]
    },
    {
      "cell_type": "code",
      "execution_count": null,
      "id": "jCCReXSWwhjX",
      "metadata": {
        "id": "jCCReXSWwhjX"
      },
      "outputs": [],
      "source": [
        "# histograms\n",
        "dataset.hist()\n",
        "pyplot.show()"
      ]
    },
    {
      "cell_type": "markdown",
      "id": "4PDPgj_rmGcD",
      "metadata": {
        "id": "4PDPgj_rmGcD"
      },
      "source": [
        "Prepare the data for training & testing"
      ]
    },
    {
      "cell_type": "code",
      "execution_count": null,
      "id": "08eebced",
      "metadata": {
        "id": "08eebced"
      },
      "outputs": [],
      "source": [
        "# Split-out train and test sets\n",
        "array = dataset.values\n",
        "X = array[:,0:4]\n",
        "y = array[:,4]\n",
        "test_size = 0.20\n",
        "seed = 7\n",
        "X_train, X_test, y_train, y_test = train_test_split(X, y, test_size=test_size, random_state=seed)"
      ]
    },
    {
      "cell_type": "markdown",
      "id": "dfaac116",
      "metadata": {
        "id": "dfaac116"
      },
      "source": [
        "3. Use the given dataset, iris.data.csv\n",
        "4. Check the dimensions of train set (X_train) and test set (X_test). How many data samples are there in the train set and test set?\n",
        "5. Use k-nearest neighbor (kNN) classifier to perform the classification of the iris flowers.\n",
        "6. Try with different values of k to obtain the best performance (calculate the accuracy, precision, recall and F1-score).\n",
        "7. Next, use support vector machine (SVM) classifier to perform the classification.\n",
        "8. Try with different types of kernel (linear or rbf) and values of  C (0.001, 0.01, 0.1, 1, 10) to obtain the best performance (calculate the accuracy, precision, recall and F1-score).\n",
        "9. Finally, use decision tree classifier to perform the classification.\n",
        "10. Try with different values for max_depth (None, 2, 4, 8, 10) to obtain the best performance (calculate the accuracy, precision, recall and F1-score).\n",
        "11. You are required to submit a lab report to discuss all the observations and results obtained in this experiment (use tables to report the results)."
      ]
    },
    {
      "cell_type": "code",
      "execution_count": null,
      "id": "17e578fe",
      "metadata": {
        "id": "17e578fe"
      },
      "outputs": [],
      "source": [
        "print(X_train.shape, X_test.shape)"
      ]
    },
    {
      "cell_type": "markdown",
      "id": "pF2kpnhnmQT7",
      "metadata": {
        "id": "pF2kpnhnmQT7"
      },
      "source": [
        "Use k Nearest Neighbors method"
      ]
    },
    {
      "cell_type": "code",
      "execution_count": null,
      "id": "53bab21e",
      "metadata": {
        "id": "53bab21e"
      },
      "outputs": [],
      "source": [
        "knn = KNC().fit(X_train, y_train)"
      ]
    },
    {
      "cell_type": "code",
      "execution_count": null,
      "id": "fce34322",
      "metadata": {
        "id": "fce34322"
      },
      "outputs": [],
      "source": [
        "print(knn.score(X_test, y_test)) # Warning should be gone after updating the sklearn"
      ]
    },
    {
      "cell_type": "markdown",
      "id": "ZNP9BKVcmVVG",
      "metadata": {
        "id": "ZNP9BKVcmVVG"
      },
      "source": [
        "Find the best kNN parameters"
      ]
    },
    {
      "cell_type": "code",
      "execution_count": null,
      "id": "0tq9pFZ5w9gZ",
      "metadata": {
        "id": "0tq9pFZ5w9gZ"
      },
      "outputs": [],
      "source": [
        "print('k-Nearest Neighbours (kNN) Classification')\n",
        "n_neighbors = list(range(1,11))\n",
        "knn = KNC().fit(X_train, y_train)\n",
        "hyperparameters = dict(n_neighbors=n_neighbors)\n",
        "grid = GridSearchCV(knn, hyperparameters, cv=12)\n",
        "grid.fit(X, y)\n",
        "print('Best kNN Parameters:')\n",
        "print(grid.best_params_)"
      ]
    },
    {
      "cell_type": "code",
      "execution_count": null,
      "id": "1e0d3633",
      "metadata": {
        "id": "1e0d3633"
      },
      "outputs": [],
      "source": [
        "print('k-Nearest Neighbours (kNN) using the best parameters:')\n",
        "knn2 = KNC(**grid.best_params_).fit(X_train, y_train)\n",
        "print(f'Testing Accuracy: {knn2.score(X_test, y_test)}')\n",
        "print(f'Training Accuracy: {knn2.score(X_train, y_train)}')\n",
        "y_pred_knn2 = knn2.predict(X_test)\n",
        "print('Classification Report: ')\n",
        "print(classification_report(y_test,y_pred_knn2))\n",
        "print('Confusion Matrix: ')\n",
        "cm = confusion_matrix(y_test, y_pred_knn2, labels=class_label)\n",
        "print(cm)\n",
        "disp = ConfusionMatrixDisplay(confusion_matrix=cm, display_labels=class_label)\n",
        "disp.plot()\n",
        "# plt.show()"
      ]
    },
    {
      "cell_type": "markdown",
      "id": "d52f1d49",
      "metadata": {
        "id": "d52f1d49"
      },
      "source": [
        "Now let's try with Support Vector Machine (SVM). Let's start with a linear kernel."
      ]
    },
    {
      "cell_type": "markdown",
      "id": "JMWowYDrme-F",
      "metadata": {
        "id": "JMWowYDrme-F"
      },
      "source": [
        "Find the best SVM parameters"
      ]
    },
    {
      "cell_type": "code",
      "execution_count": null,
      "id": "5wPq6KrgxW0m",
      "metadata": {
        "id": "5wPq6KrgxW0m"
      },
      "outputs": [],
      "source": [
        "print('Support Vector Machine (SVM)')\n",
        "svc = SVC().fit(X_train, y_train)\n",
        "params = dict(kernel= ['rbf','linear'], C=[0.001, 0.01, 0.1, 1, 10], gamma=[0.001, 0.01, 0.1, 1, 10])\n",
        "grid = GridSearchCV(svc, params, n_jobs=-1, verbose=2)\n",
        "grid.fit(X, y)\n",
        "print('Best SVM Parameters:')\n",
        "print(grid.best_params_)"
      ]
    },
    {
      "cell_type": "code",
      "execution_count": null,
      "id": "003cc62f",
      "metadata": {
        "id": "003cc62f"
      },
      "outputs": [],
      "source": [
        "print('Support Vector Machine (SVM) using the best parameters:')\n",
        "svc2 = SVC(**grid.best_params_).fit(X_train, y_train)\n",
        "print(f'Testing Accuracy: {svc2.score(X_test, y_test)}')\n",
        "print(f'Training Accuracy: {svc2.score(X_train, y_train)}')\n",
        "y_pred_svc2 = svc2.predict(X_test)\n",
        "print('Classification Report: ')\n",
        "print(classification_report(y_test, y_pred_svc2))\n",
        "print('Confusion Matrix: ')\n",
        "cm = confusion_matrix(y_test, y_pred_svc2, labels=class_label)\n",
        "print(cm)\n",
        "disp = ConfusionMatrixDisplay(confusion_matrix=cm, display_labels=class_label)\n",
        "disp.plot(cmap='magma')\n",
        "# plt.show()"
      ]
    },
    {
      "cell_type": "markdown",
      "id": "6a67e9c8",
      "metadata": {
        "id": "6a67e9c8"
      },
      "source": [
        "Now let's try with Decision Tree."
      ]
    },
    {
      "cell_type": "markdown",
      "id": "a-W1gphkmnqD",
      "metadata": {
        "id": "a-W1gphkmnqD"
      },
      "source": [
        "Find the best Decision Tree parameters"
      ]
    },
    {
      "cell_type": "code",
      "execution_count": null,
      "id": "le312JzkxtY8",
      "metadata": {
        "id": "le312JzkxtY8"
      },
      "outputs": [],
      "source": [
        "print('Decision Tree')\n",
        "max_depth = list(range(1,11))\n",
        "dtc = DTC().fit(X_train, y_train)\n",
        "hyperparameters = dict(max_depth=max_depth)\n",
        "grid = GridSearchCV(dtc, hyperparameters, cv=12)\n",
        "grid.fit(X, y)\n",
        "print('Best Decision Tree Parameters: ')\n",
        "print(grid.best_params_)"
      ]
    },
    {
      "cell_type": "code",
      "execution_count": null,
      "id": "fabd2a3a",
      "metadata": {
        "id": "fabd2a3a"
      },
      "outputs": [],
      "source": [
        "print('Decision Tree using best parameters')\n",
        "dtc2 = DTC(**grid.best_params_).fit(X_train, y_train)\n",
        "print(f'Testing Accuracy: {dtc2.score(X_test, y_test)}')\n",
        "print(f'Training Accuracy: {dtc2.score(X_train, y_train)}')\n",
        "y_pred_dtc2 = dtc2.predict(X_test)\n",
        "print('Classification Report: ')\n",
        "print(classification_report(y_test,y_pred_dtc2))\n",
        "print('Confusion Matrix: ')\n",
        "cm = confusion_matrix(y_test, y_pred_dtc2, labels=class_label)\n",
        "print(cm)\n",
        "disp = ConfusionMatrixDisplay(confusion_matrix=cm, display_labels=class_label)\n",
        "disp.plot(cmap='plasma')\n",
        "# plt.show()"
      ]
    },
    {
      "cell_type": "markdown",
      "id": "4IN5Xfjbm19u",
      "metadata": {
        "id": "4IN5Xfjbm19u"
      },
      "source": [
        "Show the tree"
      ]
    },
    {
      "cell_type": "code",
      "execution_count": null,
      "id": "5e3c032c",
      "metadata": {
        "id": "5e3c032c"
      },
      "outputs": [],
      "source": [
        "features = ['sepal length (cm)','sepal width (cm)','petal length (cm)','petal width (cm)']\n",
        "tree.plot_tree(dtc,\n",
        "               feature_names = features,\n",
        "               class_names = class_label,\n",
        "               filled = True);"
      ]
    }
  ],
  "metadata": {
    "colab": {
      "provenance": [],
      "include_colab_link": true
    },
    "kernelspec": {
      "display_name": "Python 3 (ipykernel)",
      "language": "python",
      "name": "python3"
    },
    "language_info": {
      "codemirror_mode": {
        "name": "ipython",
        "version": 3
      },
      "file_extension": ".py",
      "mimetype": "text/x-python",
      "name": "python",
      "nbconvert_exporter": "python",
      "pygments_lexer": "ipython3",
      "version": "3.9.13"
    }
  },
  "nbformat": 4,
  "nbformat_minor": 5
}