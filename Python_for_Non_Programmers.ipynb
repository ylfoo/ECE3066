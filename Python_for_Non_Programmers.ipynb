{
  "nbformat": 4,
  "nbformat_minor": 0,
  "metadata": {
    "colab": {
      "provenance": [],
      "authorship_tag": "ABX9TyMtjSQ8lYtz93Rsv8MPtbv2",
      "include_colab_link": true
    },
    "kernelspec": {
      "name": "python3",
      "display_name": "Python 3"
    },
    "language_info": {
      "name": "python"
    }
  },
  "cells": [
    {
      "cell_type": "markdown",
      "metadata": {
        "id": "view-in-github",
        "colab_type": "text"
      },
      "source": [
        "<a href=\"https://colab.research.google.com/github/ylfoo/ECE3066/blob/main/Python_for_Non_Programmers.ipynb\" target=\"_parent\"><img src=\"https://colab.research.google.com/assets/colab-badge.svg\" alt=\"Open In Colab\"/></a>"
      ]
    },
    {
      "cell_type": "markdown",
      "source": [
        "### 1. Python Basics"
      ],
      "metadata": {
        "id": "JgUINvs8jOL2"
      }
    },
    {
      "cell_type": "code",
      "execution_count": null,
      "metadata": {
        "id": "a2ksgwoXJCbm",
        "collapsed": true
      },
      "outputs": [],
      "source": [
        "print(\"Hello World!\")"
      ]
    },
    {
      "cell_type": "code",
      "source": [
        "wallet = 41\n",
        "print(wallet)"
      ],
      "metadata": {
        "id": "nuCJpU6XJhcO"
      },
      "execution_count": null,
      "outputs": []
    },
    {
      "cell_type": "markdown",
      "source": [
        "Numbers: Arithmetic Operations"
      ],
      "metadata": {
        "id": "Hg4QRPyrJnu1"
      }
    },
    {
      "cell_type": "code",
      "source": [
        "day = 21\n",
        "temp = -15\n",
        "weight = 65.5\n",
        "\n",
        "print(3 + 6)\n",
        "print(day + 3)\n",
        "print(weight * 2)\n",
        "print(temp - 5)\n",
        "print(weight / 2)"
      ],
      "metadata": {
        "id": "sKBrZ0fDJrRV"
      },
      "execution_count": null,
      "outputs": []
    },
    {
      "cell_type": "markdown",
      "source": [
        "Various Arithmetic Operators"
      ],
      "metadata": {
        "id": "nJhBC0wKJ7ca"
      }
    },
    {
      "cell_type": "code",
      "source": [
        "print(\"5 + 2 =\", 5+2)\n",
        "print(\"5 - 2 =\", 5-2)\n",
        "print(\"5 * 2 =\", 5*2)\n",
        "print(\"5 / 2 =\", 5/2)\n",
        "print(\"5 % 2 =\", 5%2)\n",
        "print(\"5 ** 2 =\", 5**2)\n",
        "print(\"5 // 2 =\", 5//2)"
      ],
      "metadata": {
        "id": "lU1U2vfHJ9Xg"
      },
      "execution_count": null,
      "outputs": []
    },
    {
      "cell_type": "markdown",
      "source": [
        "Conditional Operators"
      ],
      "metadata": {
        "id": "2qMghOeaKItM"
      }
    },
    {
      "cell_type": "code",
      "source": [
        "3 > 4"
      ],
      "metadata": {
        "id": "2Jg2pw3UKKCa"
      },
      "execution_count": null,
      "outputs": []
    },
    {
      "cell_type": "code",
      "source": [
        "4 < 6"
      ],
      "metadata": {
        "id": "8-8gCIfAKOP7"
      },
      "execution_count": null,
      "outputs": []
    },
    {
      "cell_type": "code",
      "source": [
        "4 == 4"
      ],
      "metadata": {
        "id": "zQzMfKX4KRUm"
      },
      "execution_count": null,
      "outputs": []
    },
    {
      "cell_type": "markdown",
      "source": [
        "Strings"
      ],
      "metadata": {
        "id": "8rlKt46SKWIM"
      }
    },
    {
      "cell_type": "code",
      "source": [
        "shirt = 'blue'\n",
        "print(shirt)"
      ],
      "metadata": {
        "id": "hpS8wVpCKXfP"
      },
      "execution_count": null,
      "outputs": []
    },
    {
      "cell_type": "code",
      "source": [
        "shirt = \"blue\"\n",
        "print(shirt)"
      ],
      "metadata": {
        "id": "yxTHc5iLKc2C"
      },
      "execution_count": null,
      "outputs": []
    },
    {
      "cell_type": "markdown",
      "source": [
        "Single and double quotes in the same sentence"
      ],
      "metadata": {
        "id": "xFxwxeEfZZmH"
      }
    },
    {
      "cell_type": "code",
      "source": [
        "store = 'Adam\\'s Cafe, the \"best\" there is'\n",
        "print(store)"
      ],
      "metadata": {
        "id": "4VLrSoHLZdra"
      },
      "execution_count": null,
      "outputs": []
    },
    {
      "cell_type": "markdown",
      "source": [
        "Using variables in strings"
      ],
      "metadata": {
        "id": "gyTAF0vnZ8hp"
      }
    },
    {
      "cell_type": "code",
      "source": [
        "day = 31\n",
        "month = \"March\"\n",
        "temp = 33\n",
        "print(f\"Today is {month} {day} and it’s {temp} degrees outside\")"
      ],
      "metadata": {
        "id": "6QfgF6VzZ9F3"
      },
      "execution_count": null,
      "outputs": []
    },
    {
      "cell_type": "code",
      "source": [
        "print(\"Today is {} {} and it’s {} degrees outside\".format(month, day, temp))"
      ],
      "metadata": {
        "id": "mGWbiQyQaFQs"
      },
      "execution_count": null,
      "outputs": []
    },
    {
      "cell_type": "markdown",
      "source": [
        "Joining strings"
      ],
      "metadata": {
        "id": "WZVnlqr3aX_2"
      }
    },
    {
      "cell_type": "code",
      "source": [
        "string1 = 'MMU is a '\n",
        "string2 = 'prestigious university'\n",
        "string1 + string2"
      ],
      "metadata": {
        "id": "Pu38ygcBaZXd"
      },
      "execution_count": null,
      "outputs": []
    },
    {
      "cell_type": "code",
      "source": [
        "string3 = 'normal university'\n",
        "string1 + string3"
      ],
      "metadata": {
        "id": "FfTYjVnJaszs"
      },
      "execution_count": null,
      "outputs": []
    },
    {
      "cell_type": "code",
      "source": [
        "string1 * 3"
      ],
      "metadata": {
        "id": "FOqNW7pEa13O"
      },
      "execution_count": null,
      "outputs": []
    },
    {
      "cell_type": "markdown",
      "source": [
        "Booleans"
      ],
      "metadata": {
        "id": "8ELjp8RibRGs"
      }
    },
    {
      "cell_type": "code",
      "source": [
        "light_is_on = True"
      ],
      "metadata": {
        "id": "fv3b1xbobSY6"
      },
      "execution_count": null,
      "outputs": []
    },
    {
      "cell_type": "code",
      "source": [
        "light_is_off = false"
      ],
      "metadata": {
        "id": "-QFEG2aAblGN"
      },
      "execution_count": null,
      "outputs": []
    },
    {
      "cell_type": "markdown",
      "source": [
        "If statement"
      ],
      "metadata": {
        "id": "AnX_-dFMbo3H"
      }
    },
    {
      "cell_type": "code",
      "source": [
        "if light_is_on:\n",
        "  print(\"The light is on!\")\n",
        "  print(\"Anyone there?\")"
      ],
      "metadata": {
        "id": "sAeKi7Aabsa8"
      },
      "execution_count": null,
      "outputs": []
    },
    {
      "cell_type": "markdown",
      "source": [
        "Comparison and else"
      ],
      "metadata": {
        "id": "7PZ6lBwQbWAL"
      }
    },
    {
      "cell_type": "code",
      "source": [
        "if light_is_on:\n",
        "  print(\"The light is on!\")\n",
        "else:\n",
        "  print(\"We're in the dark!\")"
      ],
      "metadata": {
        "id": "zHDyHXFMcXKK"
      },
      "execution_count": null,
      "outputs": []
    },
    {
      "cell_type": "code",
      "source": [
        "light_is_on = False"
      ],
      "metadata": {
        "id": "wKutK2KTcBod"
      },
      "execution_count": null,
      "outputs": []
    },
    {
      "cell_type": "markdown",
      "source": [
        "Rerun the previous cell. What do you get?"
      ],
      "metadata": {
        "id": "FU72gf-4crB-"
      }
    },
    {
      "cell_type": "markdown",
      "source": [
        "Let's try another one"
      ],
      "metadata": {
        "id": "49HJR7uzdAES"
      }
    },
    {
      "cell_type": "code",
      "source": [
        "weight = 45"
      ],
      "metadata": {
        "id": "N0mZILupdCu9"
      },
      "execution_count": null,
      "outputs": []
    },
    {
      "cell_type": "code",
      "source": [
        "if weight < 50:\n",
        "  print(\"You’re underweight!\")\n",
        "else:\n",
        "  print(\"You’re overweight!\")"
      ],
      "metadata": {
        "id": "lJrfcV1EdFwW"
      },
      "execution_count": null,
      "outputs": []
    },
    {
      "cell_type": "code",
      "source": [
        "weight = 60"
      ],
      "metadata": {
        "id": "iO7kKuTBdOCO"
      },
      "execution_count": null,
      "outputs": []
    },
    {
      "cell_type": "markdown",
      "source": [
        "Rerun the previous cell. What do you get?"
      ],
      "metadata": {
        "id": "P-UZfCh_gpyY"
      }
    },
    {
      "cell_type": "markdown",
      "source": [
        "Comparison and else: Challenge"
      ],
      "metadata": {
        "id": "fHDOQuAqgzKJ"
      }
    },
    {
      "cell_type": "code",
      "source": [
        "age = 35\n",
        "if age >= 18:\n",
        "  print(\"Adult\")\n",
        "else:\n",
        "  print(\"Child\")"
      ],
      "metadata": {
        "id": "tBGUIJ_5dR9q"
      },
      "execution_count": null,
      "outputs": []
    },
    {
      "cell_type": "markdown",
      "source": [
        "### 2. Project 1"
      ],
      "metadata": {
        "id": "nIK8Uc5FjZBM"
      }
    },
    {
      "cell_type": "markdown",
      "source": [
        "Project 1: Picking a random number  \n",
        "First, import the _random_ package"
      ],
      "metadata": {
        "id": "YF0wfourhrh-"
      }
    },
    {
      "cell_type": "code",
      "source": [
        "import random"
      ],
      "metadata": {
        "id": "1f4l11FzhxXv"
      },
      "execution_count": null,
      "outputs": []
    },
    {
      "cell_type": "code",
      "source": [
        "r = random.randint(1, 10)\n",
        "print(r)"
      ],
      "metadata": {
        "id": "LU2uvPG_hEoR"
      },
      "execution_count": null,
      "outputs": []
    },
    {
      "cell_type": "markdown",
      "source": [
        "Challenge: Magic 8 ball"
      ],
      "metadata": {
        "id": "cestp3jUhace"
      }
    },
    {
      "cell_type": "code",
      "source": [
        "answer = random.randint(1,3)\n",
        "if answer == 1:\n",
        "  print(\"Yes\")\n",
        "elif answer == 2:\n",
        "  print(\"No\")\n",
        "else:\n",
        "  print(\"Maybe\")"
      ],
      "metadata": {
        "id": "hmjBD_y3hbFQ"
      },
      "execution_count": null,
      "outputs": []
    },
    {
      "cell_type": "markdown",
      "source": [
        "Generate a lucky number"
      ],
      "metadata": {
        "id": "8JP64EC3iCWv"
      }
    },
    {
      "cell_type": "code",
      "source": [
        "lucky_number = random.randint(1, 100)"
      ],
      "metadata": {
        "id": "_SIdJohAiEPJ"
      },
      "execution_count": null,
      "outputs": []
    },
    {
      "cell_type": "code",
      "source": [
        "print(f'You will have a great day! Your Lucky Number is {lucky_number}')"
      ],
      "metadata": {
        "id": "jIACuyiYiW3h"
      },
      "execution_count": null,
      "outputs": []
    },
    {
      "cell_type": "markdown",
      "source": [
        "Choosing what fortune to show"
      ],
      "metadata": {
        "id": "FHKho3qhidH4"
      }
    },
    {
      "cell_type": "code",
      "source": [
        "fortune_number = random.randint(1, 3)\n",
        "\n",
        "if fortune_number == 1:\n",
        "  fortune_text = 'You will have a great day!'\n",
        "elif fortune_number == 2:\n",
        "  fortune_text = 'Today will be tough...but worth it.'\n",
        "elif fortune_number == 3:\n",
        "  fortune_text = 'You will get married this year!'\n",
        "\n",
        "print(fortune_text)"
      ],
      "metadata": {
        "id": "mk8Yzu3yij0M"
      },
      "execution_count": null,
      "outputs": []
    },
    {
      "cell_type": "markdown",
      "source": [
        "### 3. Lists, Loops and Dictionaries"
      ],
      "metadata": {
        "id": "NmBQbD7zjlcA"
      }
    },
    {
      "cell_type": "markdown",
      "source": [
        "List"
      ],
      "metadata": {
        "id": "i5R6YvS8kLDj"
      }
    },
    {
      "cell_type": "code",
      "source": [
        "numbers = [1, 2, 3, 4, 5]"
      ],
      "metadata": {
        "id": "Duf5TBjSjr1e"
      },
      "execution_count": null,
      "outputs": []
    },
    {
      "cell_type": "code",
      "source": [
        "numbers[0]"
      ],
      "metadata": {
        "id": "hlW3726yj1MA"
      },
      "execution_count": null,
      "outputs": []
    },
    {
      "cell_type": "code",
      "source": [
        "numbers[4]"
      ],
      "metadata": {
        "id": "e-ptWMdLj30B"
      },
      "execution_count": null,
      "outputs": []
    },
    {
      "cell_type": "code",
      "source": [
        "numbers[5]"
      ],
      "metadata": {
        "id": "KQF0oiTzj6RM"
      },
      "execution_count": null,
      "outputs": []
    },
    {
      "cell_type": "code",
      "source": [
        "numbers[2:4]"
      ],
      "metadata": {
        "id": "Gmw-y00Oj9sb"
      },
      "execution_count": null,
      "outputs": []
    },
    {
      "cell_type": "markdown",
      "source": [
        "Another example"
      ],
      "metadata": {
        "id": "ufR_gg60kMKW"
      }
    },
    {
      "cell_type": "code",
      "source": [
        "fav_movies = [\"Maleficent\", \"Aladdin\", \"Star Wars\"]"
      ],
      "metadata": {
        "id": "ESSPFIAskNet"
      },
      "execution_count": null,
      "outputs": []
    },
    {
      "cell_type": "code",
      "source": [
        "print(fav_movies[1])"
      ],
      "metadata": {
        "id": "mTmUR5yckaRS"
      },
      "execution_count": null,
      "outputs": []
    },
    {
      "cell_type": "markdown",
      "source": [
        "#### Lists: Add, insert, delete  \n",
        "Find the length of the list"
      ],
      "metadata": {
        "id": "dGkpbdEfklwi"
      }
    },
    {
      "cell_type": "code",
      "source": [
        "print(len(fav_movies))"
      ],
      "metadata": {
        "id": "YopD-pwbko4b"
      },
      "execution_count": null,
      "outputs": []
    },
    {
      "cell_type": "markdown",
      "source": [
        "Add an entry to the list"
      ],
      "metadata": {
        "id": "ReyPGZbYk-Np"
      }
    },
    {
      "cell_type": "code",
      "source": [
        "fav_movies.append(\"Jurassic Park\")\n",
        "print(fav_movies)"
      ],
      "metadata": {
        "id": "7fyDT8ACksus"
      },
      "execution_count": null,
      "outputs": []
    },
    {
      "cell_type": "markdown",
      "source": [
        "Insert a second entry"
      ],
      "metadata": {
        "id": "I4_0AKVYlCLE"
      }
    },
    {
      "cell_type": "code",
      "source": [
        "fav_movies.insert(1, \"Spiderman\")\n",
        "print(fav_movies)"
      ],
      "metadata": {
        "id": "Y5zZAgaakylO"
      },
      "execution_count": null,
      "outputs": []
    },
    {
      "cell_type": "markdown",
      "source": [
        "At which location 'Spiderman' was inserted?"
      ],
      "metadata": {
        "id": "MGqliE_ZlIMP"
      }
    },
    {
      "cell_type": "markdown",
      "source": [
        "Delete an entry"
      ],
      "metadata": {
        "id": "pf5cOdj9lSAH"
      }
    },
    {
      "cell_type": "code",
      "source": [
        "del(fav_movies[2])\n",
        "print(fav_movies)"
      ],
      "metadata": {
        "id": "dwnGPodClTqT"
      },
      "execution_count": null,
      "outputs": []
    },
    {
      "cell_type": "markdown",
      "source": [
        "Which one was deleted?"
      ],
      "metadata": {
        "id": "3aGy7D1Ilb-s"
      }
    },
    {
      "cell_type": "markdown",
      "source": [
        "A FOR loop"
      ],
      "metadata": {
        "id": "NAZerUsPlnLM"
      }
    },
    {
      "cell_type": "code",
      "source": [
        "for number in range (5):\n",
        "  print(\"Hello\")"
      ],
      "metadata": {
        "id": "INjJQP2Mlo0_"
      },
      "execution_count": null,
      "outputs": []
    },
    {
      "cell_type": "code",
      "source": [
        "for num in range (10):\n",
        "  print(num)"
      ],
      "metadata": {
        "id": "pky88Rrol1Pf"
      },
      "execution_count": null,
      "outputs": []
    },
    {
      "cell_type": "code",
      "source": [
        "for movie in fav_movies:\n",
        "  print(movie)"
      ],
      "metadata": {
        "id": "lPQ9MeMzmDFu"
      },
      "execution_count": null,
      "outputs": []
    },
    {
      "cell_type": "markdown",
      "source": [
        "FOR loop: Challenge"
      ],
      "metadata": {
        "id": "sbX9RuFQmLSd"
      }
    },
    {
      "cell_type": "code",
      "source": [
        "for number in range(20):\n",
        "  # complete your code here"
      ],
      "metadata": {
        "id": "OdSaL3xgmNcy"
      },
      "execution_count": null,
      "outputs": []
    },
    {
      "cell_type": "markdown",
      "source": [
        "#### Dictionaries"
      ],
      "metadata": {
        "id": "8k9jKC9vmdfy"
      }
    },
    {
      "cell_type": "code",
      "source": [
        "cats = {\"Black\": 6, \"Coco\": 14, \"Fluffy\": 8}\n",
        "print(cats)"
      ],
      "metadata": {
        "id": "BrqRXkTSmjeM"
      },
      "execution_count": null,
      "outputs": []
    },
    {
      "cell_type": "code",
      "source": [
        "print(cats[\"Fluffy\"])"
      ],
      "metadata": {
        "id": "_KnEaUuEm8lj"
      },
      "execution_count": null,
      "outputs": []
    },
    {
      "cell_type": "markdown",
      "source": [
        "Dictionaries: Add, Delete"
      ],
      "metadata": {
        "id": "g5Fx0kCmnFVs"
      }
    },
    {
      "cell_type": "markdown",
      "source": [
        "Add 1 more entry"
      ],
      "metadata": {
        "id": "SuXM9OyBnNgH"
      }
    },
    {
      "cell_type": "code",
      "source": [
        "cats[\"Lucky\"] = 1\n",
        "print(cats)"
      ],
      "metadata": {
        "id": "I0tPWIAQnKj8"
      },
      "execution_count": null,
      "outputs": []
    },
    {
      "cell_type": "markdown",
      "source": [
        "At which location was it added?"
      ],
      "metadata": {
        "id": "s4Q1QOoPnbbU"
      }
    },
    {
      "cell_type": "markdown",
      "source": [
        "Delete an entry"
      ],
      "metadata": {
        "id": "CHLtmsVXnllN"
      }
    },
    {
      "cell_type": "code",
      "source": [
        "del(cats[\"Coco\"])\n",
        "print(cats)"
      ],
      "metadata": {
        "id": "ZDmEteMyne4P"
      },
      "execution_count": null,
      "outputs": []
    },
    {
      "cell_type": "markdown",
      "source": [
        "Print the length of the dictionary"
      ],
      "metadata": {
        "id": "NAB56wdVnyHV"
      }
    },
    {
      "cell_type": "code",
      "source": [
        "print(len(cats))"
      ],
      "metadata": {
        "id": "6uynG8GAnvUt"
      },
      "execution_count": null,
      "outputs": []
    },
    {
      "cell_type": "markdown",
      "source": [
        "### 4. Project 2"
      ],
      "metadata": {
        "id": "9V5yHNrnn2fP"
      }
    },
    {
      "cell_type": "code",
      "source": [
        "text = '''Multimedia University (MMU) Melaka Career Fair, held on 18 April 2024, was a success with hundreds of students connecting with representatives from a wide array of industries and organisations. The event,  jointly organised by Career Connect and TalentBank, provided students with invaluable opportunities to explore career paths, network with professionals, and even secure internships or job offers. MMU President, Professor Dato’ Dr. Mazliham Mohd Su’ud officiated the opening ceremony at the Persada Permata Dunia. Also attending the event were Mr. Ben Ho, Chief Executive Officer of TalentBank, Prof. Ir. Dr. Wong Hin Yong, Vice President of Academic and Innovative Learning (VP AIR), Prof. Dr. Wong Eng Kiong, Vice President of Student Experience and Entrepreneurship Development (VP SEED), Prof. Ir. Dr. Hairul Azhar Abdul Rashid, Vice President of Market Exploration, Engagement & Touchpoint (VP MEET), Career Connect team and other staff. This fair was an incredible opportunity for MMU students to connect with potential employers and gain a real-world insight into various industries. In addition to networking opportunities, the career fair also offered its audience a variety of interview and informational sessions aimed at enhancing their professional skills. All in all, the MMU Melaka Career Fair proved to be a valuable resource for students, providing them with the tools, connections, and confidence they need to succeed in today’s competitive job market.'''"
      ],
      "metadata": {
        "id": "fkxbV8hMn_Ge"
      },
      "execution_count": null,
      "outputs": []
    },
    {
      "cell_type": "markdown",
      "source": [
        "How many words are there?"
      ],
      "metadata": {
        "id": "4obL5JgOobq7"
      }
    },
    {
      "cell_type": "code",
      "source": [
        "ts = text.split()\n",
        "print(ts)"
      ],
      "metadata": {
        "id": "FgF7UuhOod79"
      },
      "execution_count": null,
      "outputs": []
    },
    {
      "cell_type": "markdown",
      "source": [
        "Count the words"
      ],
      "metadata": {
        "id": "mwWngDYaokGv"
      }
    },
    {
      "cell_type": "code",
      "source": [
        "print(len(ts))"
      ],
      "metadata": {
        "id": "UIM4sz4PolZQ"
      },
      "execution_count": null,
      "outputs": []
    },
    {
      "cell_type": "markdown",
      "source": [
        "How many times a word appears?  \n",
        "1. Create an empty dictionary"
      ],
      "metadata": {
        "id": "ac1fh5cPo4yo"
      }
    },
    {
      "cell_type": "code",
      "source": [
        "word_count = {}"
      ],
      "metadata": {
        "id": "07iemucTo5ZH"
      },
      "execution_count": null,
      "outputs": []
    },
    {
      "cell_type": "code",
      "source": [
        "for word in ts:\n",
        "  print(word)"
      ],
      "metadata": {
        "id": "XBWq9uFnpJgl"
      },
      "execution_count": null,
      "outputs": []
    },
    {
      "cell_type": "markdown",
      "source": [
        "2. Loop through each word in the text string  \n",
        "Count 1 when the word is seen once"
      ],
      "metadata": {
        "id": "NlEhvO9cpbQy"
      }
    },
    {
      "cell_type": "code",
      "source": [
        "for word in ts:\n",
        "  # print(word)\n",
        "  word_count[word] = 1\n",
        "\n",
        "print(word_count)"
      ],
      "metadata": {
        "id": "t3L3c0Ftpvt9"
      },
      "execution_count": null,
      "outputs": []
    },
    {
      "cell_type": "markdown",
      "source": [
        "Problem: It only counts once even if the word is seen more than once"
      ],
      "metadata": {
        "id": "6PIR4qfQp_Ss"
      }
    },
    {
      "cell_type": "markdown",
      "source": [
        "**Add an IF condition**  \n",
        "If the word is seen for the 1st time, count 1.  \n",
        "If the word is seen more than once, add 1 to its existing count."
      ],
      "metadata": {
        "id": "mGx-vwoVqLa7"
      }
    },
    {
      "cell_type": "code",
      "source": [
        "for word in ts:\n",
        "  if word in word_count:\n",
        "    word_count[word] = word_count[word] + 1\n",
        "  else:\n",
        "    word_count[word] = 1\n",
        "\n",
        "print(word_count)"
      ],
      "metadata": {
        "id": "vI-txSY0que-"
      },
      "execution_count": null,
      "outputs": []
    },
    {
      "cell_type": "markdown",
      "source": [
        "### 5. Functions, and more"
      ],
      "metadata": {
        "id": "nyVhb7_Gsi2c"
      }
    },
    {
      "cell_type": "code",
      "source": [
        "def hello():\n",
        "  print(\"Hello World!\")"
      ],
      "metadata": {
        "id": "5lFhgB7Qpi0X"
      },
      "execution_count": null,
      "outputs": []
    },
    {
      "cell_type": "code",
      "source": [
        "hello()"
      ],
      "metadata": {
        "id": "v01ZbC6ysuIV"
      },
      "execution_count": null,
      "outputs": []
    },
    {
      "cell_type": "markdown",
      "source": [
        "Pass Parameters to a Function"
      ],
      "metadata": {
        "id": "1vclnvcWs1u_"
      }
    },
    {
      "cell_type": "code",
      "source": [
        "def hello(name):\n",
        "  print(f\"Hello {name}!\")"
      ],
      "metadata": {
        "id": "hJmNgnVOtnCo"
      },
      "execution_count": null,
      "outputs": []
    },
    {
      "cell_type": "code",
      "source": [
        "hello(John)"
      ],
      "metadata": {
        "id": "8DHvmlEot-Id"
      },
      "execution_count": null,
      "outputs": []
    },
    {
      "cell_type": "code",
      "source": [
        "hello(\"John\")"
      ],
      "metadata": {
        "id": "F9Grw13Qs2bW"
      },
      "execution_count": null,
      "outputs": []
    },
    {
      "cell_type": "markdown",
      "source": [
        "As many parameters as you want"
      ],
      "metadata": {
        "id": "nBliJFSOuKI9"
      }
    },
    {
      "cell_type": "code",
      "source": [
        "def add_numbers(num1, num2):\n",
        "  print(num1 + num2)"
      ],
      "metadata": {
        "id": "7VUt4X3wuMQT"
      },
      "execution_count": null,
      "outputs": []
    },
    {
      "cell_type": "code",
      "source": [
        "add_numbers(5, 4)"
      ],
      "metadata": {
        "id": "2t9V_W7LuS8e"
      },
      "execution_count": null,
      "outputs": []
    },
    {
      "cell_type": "markdown",
      "source": [
        "Create a function that prints out a cat’s name & age"
      ],
      "metadata": {
        "id": "dLAYjR21uc9J"
      }
    },
    {
      "cell_type": "code",
      "source": [
        "def cat(name, age):\n",
        "  print(f\"I'm a cat. My name is {name} and I'm {age} years old.\")"
      ],
      "metadata": {
        "id": "6tmNAt-aue9l"
      },
      "execution_count": null,
      "outputs": []
    },
    {
      "cell_type": "code",
      "source": [
        "cat(Kitty, 9)"
      ],
      "metadata": {
        "id": "ZuGv4MfSukxw"
      },
      "execution_count": null,
      "outputs": []
    },
    {
      "cell_type": "code",
      "source": [
        "cat(\"Kitty\", 9)"
      ],
      "metadata": {
        "id": "bYTLXmZ-upbr"
      },
      "execution_count": null,
      "outputs": []
    },
    {
      "cell_type": "markdown",
      "source": [
        "Output of a function"
      ],
      "metadata": {
        "id": "4noYTqFZu10M"
      }
    },
    {
      "cell_type": "code",
      "source": [
        "def double(number):\n",
        "  return number * 2"
      ],
      "metadata": {
        "id": "ItVNOvBcu3p_"
      },
      "execution_count": null,
      "outputs": []
    },
    {
      "cell_type": "code",
      "source": [
        "double(5)"
      ],
      "metadata": {
        "id": "PQb5gb2yu8pc"
      },
      "execution_count": null,
      "outputs": []
    },
    {
      "cell_type": "markdown",
      "source": [
        "Challenge: Create a function that change all the letters in a string to uppercase"
      ],
      "metadata": {
        "id": "DNEFhkpxvHfN"
      }
    },
    {
      "cell_type": "code",
      "source": [
        "def all_upper(text):\n",
        "  return text.upper()"
      ],
      "metadata": {
        "id": "KOuOjR0qvKS7"
      },
      "execution_count": null,
      "outputs": []
    },
    {
      "cell_type": "code",
      "source": [
        "new_text = all_upper(\"abcdef\")\n",
        "print(new_text)"
      ],
      "metadata": {
        "id": "ezzl-29QvOAR"
      },
      "execution_count": null,
      "outputs": []
    },
    {
      "cell_type": "markdown",
      "source": [
        "How to do the same on a list of words?"
      ],
      "metadata": {
        "id": "Mke5eK9tvXKZ"
      }
    },
    {
      "cell_type": "code",
      "source": [
        "names = ['foo', 'yee', 'loo']\n",
        "for name in names:\n",
        "  print(all_upper(name))"
      ],
      "metadata": {
        "id": "ByKTq928vcmZ"
      },
      "execution_count": null,
      "outputs": []
    },
    {
      "cell_type": "markdown",
      "source": [
        "Input from user"
      ],
      "metadata": {
        "id": "KgwFHi9NvtDG"
      }
    },
    {
      "cell_type": "code",
      "source": [
        "user_input = input('What is your name?')\n",
        "print(user_input)"
      ],
      "metadata": {
        "id": "H91hz1q_vuVH"
      },
      "execution_count": null,
      "outputs": []
    },
    {
      "cell_type": "code",
      "source": [
        "user_input = input(\"What's the number that you want to double?\")\n",
        "print(user_input * 2)"
      ],
      "metadata": {
        "id": "D6Tzlqs0v7yC"
      },
      "execution_count": null,
      "outputs": []
    },
    {
      "cell_type": "markdown",
      "source": [
        "Does it work? Try this"
      ],
      "metadata": {
        "id": "mjJQjNEZwCRc"
      }
    },
    {
      "cell_type": "code",
      "source": [
        "user_input = input(\"What's the number that you want to double? \")\n",
        "print(int(user_input) * 2)"
      ],
      "metadata": {
        "id": "UvwUOEnuwEPP"
      },
      "execution_count": null,
      "outputs": []
    },
    {
      "cell_type": "code",
      "source": [
        "user_text = input('What do you want to type? ')\n",
        "lower_or_upper = input(\"Do you want it to be in lower case (Type '1') or upper case (Type '2')?\")\n",
        "if lower_or_upper == 1:\n",
        "  print(user_text.lower())\n",
        "else:\n",
        "  print(user_text.upper())"
      ],
      "metadata": {
        "id": "dlgqocrXwZ3u"
      },
      "execution_count": null,
      "outputs": []
    },
    {
      "cell_type": "markdown",
      "source": [
        "Does it work? Try this"
      ],
      "metadata": {
        "id": "-ddTn-9FwjSW"
      }
    },
    {
      "cell_type": "code",
      "source": [
        "user_text = input('What do you want to type? ')\n",
        "lower_or_upper = int(input(\"Do you want it to be in lower case (Type '1') or upper case (Type '2')?\"))\n",
        "if lower_or_upper == 1:\n",
        "  print(user_text.lower())\n",
        "else:\n",
        "  print(user_text.upper())"
      ],
      "metadata": {
        "id": "A2i4eLivwmxh"
      },
      "execution_count": null,
      "outputs": []
    },
    {
      "cell_type": "code",
      "source": [
        "user_text = input('What do you want to type? ')\n",
        "lower_or_upper = int(input(\"Do you want it to be in lower case (Type '1') or upper case (Type '2')?\"))\n",
        "if lower_or_upper == 1:\n",
        "  print(user_text.lower())\n",
        "elif lower_or_upper == 2:\n",
        "  print(user_text.upper())\n",
        "else:\n",
        "  print(\"You've typed a wrong number!\")"
      ],
      "metadata": {
        "id": "MIrDcP_7w80v"
      },
      "execution_count": null,
      "outputs": []
    },
    {
      "cell_type": "markdown",
      "source": [
        "### 6. Project 3: Guess a number"
      ],
      "metadata": {
        "id": "XTOp2yQaxbKJ"
      }
    },
    {
      "cell_type": "markdown",
      "source": [
        "WHILE loop"
      ],
      "metadata": {
        "id": "BDsgk__kxiof"
      }
    },
    {
      "cell_type": "code",
      "source": [
        "guess = int(input(\"What is your guess? \"))\n",
        "correct_number = 5\n",
        "\n",
        "while guess != correct_number:\n",
        "  guess = int(input(\"What is your guess? \"))\n",
        "\n",
        "print(\"You've made the right guess!\")"
      ],
      "metadata": {
        "id": "UeD-qtojxl8b"
      },
      "execution_count": null,
      "outputs": []
    },
    {
      "cell_type": "markdown",
      "source": [
        "Count the number of guesses"
      ],
      "metadata": {
        "id": "V2fcxLIKx2M1"
      }
    },
    {
      "cell_type": "code",
      "source": [
        "guess = int(input(\"What is your guess? \"))\n",
        "correct_number = 5\n",
        "count = 1\n",
        "\n",
        "while guess != correct_number:\n",
        "  count += 1\n",
        "  guess = int(input(\"What is your guess? \"))\n",
        "\n",
        "print(f\"You've made the right guess! The right answer is {correct_number}. It took you {count} guesses.\")"
      ],
      "metadata": {
        "id": "u9HHWI4Kx6TO"
      },
      "execution_count": null,
      "outputs": []
    },
    {
      "cell_type": "markdown",
      "source": [
        "What if the correct number is randomly selected?"
      ],
      "metadata": {
        "id": "qkYaGGLjyd3V"
      }
    },
    {
      "cell_type": "code",
      "source": [
        "import random\n",
        "correct_number = random.randint(1, 100)\n",
        "print(\"Guess between 1 and 100\")\n",
        "guess = int(input(\"What is your guess? \"))\n",
        "count = 1\n",
        "\n",
        "while guess != correct_number:\n",
        "  count += 1\n",
        "  if guess < correct_number:\n",
        "    guess = int(input(\"Nope. Guess higher, please > \"))\n",
        "  elif guess > correct_number:\n",
        "    guess = int(input(\"Nope. Guess lower, please > \"))\n",
        "\n",
        "print(f\"You've made the right guess! The right answer is {correct_number}. It took you {count} guesses.\")"
      ],
      "metadata": {
        "id": "IM_u_fGXx4CE"
      },
      "execution_count": null,
      "outputs": []
    },
    {
      "cell_type": "markdown",
      "source": [
        "The end. Congratulations! You've completed the course."
      ],
      "metadata": {
        "id": "-S4J4FNuzA7X"
      }
    }
  ]
}